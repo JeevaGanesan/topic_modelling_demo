{
 "cells": [
  {
   "cell_type": "code",
   "execution_count": null,
   "metadata": {
    "ExecuteTime": {
     "end_time": "2018-12-17T19:22:44.228861Z",
     "start_time": "2018-12-17T19:22:33.658538Z"
    }
   },
   "outputs": [],
   "source": [
    "from gensim.models import Word2Vec\n",
    "import sys\n",
    "\n",
    "path_to_helpers = 'helpers/'\n",
    "sys.path.insert(0, path_to_helpers)\n",
    "from helper_prep import * # contain preprocessing helper functions\n",
    "from helper_base import * # contains basic jupyter helper functions"
   ]
  },
  {
   "cell_type": "code",
   "execution_count": 2,
   "metadata": {
    "ExecuteTime": {
     "end_time": "2018-12-17T19:22:50.946297Z",
     "start_time": "2018-12-17T19:22:44.233747Z"
    }
   },
   "outputs": [],
   "source": [
    "filename = '../reviews_Grocery_and_Gourmet_Food_5.json.gz'\n",
    "raw = getDF(filename)"
   ]
  },
  {
   "cell_type": "code",
   "execution_count": 3,
   "metadata": {
    "ExecuteTime": {
     "end_time": "2018-12-17T19:22:51.074156Z",
     "start_time": "2018-12-17T19:22:50.948436Z"
    }
   },
   "outputs": [],
   "source": [
    "raw['review_year'] = raw.reviewTime.apply(lambda x: int(x.split(',')[1].strip()))"
   ]
  },
  {
   "cell_type": "code",
   "execution_count": 4,
   "metadata": {
    "ExecuteTime": {
     "end_time": "2018-12-17T19:22:51.097429Z",
     "start_time": "2018-12-17T19:22:51.076040Z"
    }
   },
   "outputs": [
    {
     "data": {
      "text/plain": [
       "(51899, 10)"
      ]
     },
     "execution_count": 4,
     "metadata": {},
     "output_type": "execute_result"
    }
   ],
   "source": [
    "df = raw[raw.review_year == 2013]; df.shape"
   ]
  },
  {
   "cell_type": "code",
   "execution_count": 6,
   "metadata": {
    "ExecuteTime": {
     "end_time": "2018-12-17T19:26:34.469228Z",
     "start_time": "2018-12-17T19:23:36.565006Z"
    },
    "scrolled": false
   },
   "outputs": [
    {
     "name": "stdout",
     "output_type": "stream",
     "text": [
      "Dimension of Text:  (51894, 11)\n",
      "Number of Tokens:  4462760\n",
      "Number of Lemmas:  4463729\n",
      "\n"
     ]
    }
   ],
   "source": [
    "_,words, _ = prep_dataset(df, 'reviewText', 'reviews_clean', list_of_lists=True)"
   ]
  },
  {
   "cell_type": "code",
   "execution_count": 11,
   "metadata": {
    "ExecuteTime": {
     "end_time": "2018-12-17T19:37:23.425832Z",
     "start_time": "2018-12-17T19:37:14.754082Z"
    }
   },
   "outputs": [],
   "source": [
    "model_small = Word2Vec(words, size=100, window=5, min_count=1, workers=4)"
   ]
  },
  {
   "cell_type": "code",
   "execution_count": 13,
   "metadata": {
    "ExecuteTime": {
     "end_time": "2018-12-17T19:43:30.271901Z",
     "start_time": "2018-12-17T19:43:30.219409Z"
    },
    "scrolled": true
   },
   "outputs": [
    {
     "data": {
      "text/plain": [
       "[('glutten', 0.8176965713500977),\n",
       " ('nongluten', 0.7994773387908936),\n",
       " ('mercifully', 0.7438392639160156),\n",
       " ('guilt', 0.7368150949478149),\n",
       " ('radicals', 0.7254860401153564),\n",
       " ('cage', 0.7180004119873047),\n",
       " ('kosherlabel', 0.7030194997787476),\n",
       " ('glutin', 0.6935396790504456),\n",
       " ('blemish', 0.6896705031394958),\n",
       " ('paenut', 0.6885567903518677),\n",
       " ('aregluten', 0.683861255645752),\n",
       " ('bpa', 0.676176130771637),\n",
       " ('glutenfree', 0.675482988357544),\n",
       " ('jellosugar', 0.6741920709609985),\n",
       " ('lactose', 0.6722111701965332),\n",
       " ('dairy', 0.6677981019020081),\n",
       " ('suger', 0.6645232439041138),\n",
       " ('gf', 0.6627814769744873),\n",
       " ('nocost', 0.6496844291687012),\n",
       " ('gl', 0.6480738520622253)]"
      ]
     },
     "execution_count": 13,
     "metadata": {},
     "output_type": "execute_result"
    }
   ],
   "source": [
    "model_small.most_similar(positive = ['gluten'], topn=20)"
   ]
  },
  {
   "cell_type": "code",
   "execution_count": 14,
   "metadata": {
    "ExecuteTime": {
     "end_time": "2018-12-17T19:43:46.613684Z",
     "start_time": "2018-12-17T19:43:46.190032Z"
    }
   },
   "outputs": [],
   "source": [
    "model_small.save(\"../word2vec_2013.model\")"
   ]
  },
  {
   "cell_type": "markdown",
   "metadata": {},
   "source": [
    "Even with ~35% of the data, the 2013-based model looks pretty coherent. However, since this isn't a very computationally intensive process, let's create another model with data from all years since more data = better model."
   ]
  },
  {
   "cell_type": "code",
   "execution_count": 15,
   "metadata": {
    "ExecuteTime": {
     "end_time": "2018-12-17T19:53:45.312044Z",
     "start_time": "2018-12-17T19:44:00.700142Z"
    }
   },
   "outputs": [
    {
     "name": "stdout",
     "output_type": "stream",
     "text": [
      "Dimension of Text:  (151232, 11)\n",
      "Number of Tokens:  14529188\n",
      "Number of Lemmas:  14532256\n",
      "\n"
     ]
    }
   ],
   "source": [
    "_, all_words, _ = prep_dataset(raw, 'reviewText', 'reviews_clean', True) "
   ]
  },
  {
   "cell_type": "code",
   "execution_count": 16,
   "metadata": {
    "ExecuteTime": {
     "end_time": "2018-12-17T19:54:14.379742Z",
     "start_time": "2018-12-17T19:53:45.315542Z"
    }
   },
   "outputs": [],
   "source": [
    "model_big = Word2Vec(all_words, size=100, window=5, min_count=1, workers=4)"
   ]
  },
  {
   "cell_type": "code",
   "execution_count": 18,
   "metadata": {
    "ExecuteTime": {
     "end_time": "2018-12-17T19:57:28.156849Z",
     "start_time": "2018-12-17T19:57:28.070193Z"
    },
    "scrolled": true
   },
   "outputs": [
    {
     "data": {
      "text/plain": [
       "[('nongluten', 0.8499389290809631),\n",
       " ('glutten', 0.8358160257339478),\n",
       " ('glueten', 0.7868318557739258),\n",
       " ('cage', 0.7550578713417053),\n",
       " ('paenut', 0.7545182108879089),\n",
       " ('pregluten', 0.7536609172821045),\n",
       " ('radicals', 0.7448501586914062),\n",
       " ('glutin', 0.7236564755439758),\n",
       " ('glute', 0.7211847305297852),\n",
       " ('aspartate', 0.702258825302124),\n",
       " ('glutenfree', 0.6903978586196899),\n",
       " ('glutean', 0.6896613836288452),\n",
       " ('lactose', 0.6791067123413086),\n",
       " ('carrotty', 0.6773020029067993),\n",
       " ('porcelin', 0.6767714023590088),\n",
       " ('sweetguilt', 0.669262170791626),\n",
       " ('jellyleakers', 0.6623586416244507),\n",
       " ('allergen', 0.6597487926483154),\n",
       " ('dairy', 0.659087061882019),\n",
       " ('gluton', 0.6581597328186035)]"
      ]
     },
     "execution_count": 18,
     "metadata": {},
     "output_type": "execute_result"
    }
   ],
   "source": [
    "model_big.most_similar(positive = ['gluten'], topn=20)"
   ]
  },
  {
   "cell_type": "code",
   "execution_count": 20,
   "metadata": {
    "ExecuteTime": {
     "end_time": "2018-12-17T19:57:48.324210Z",
     "start_time": "2018-12-17T19:57:47.375647Z"
    }
   },
   "outputs": [],
   "source": [
    "model_big.save(\"../word2vec_all.model\")"
   ]
  }
 ],
 "metadata": {
  "kernelspec": {
   "display_name": "Python 3",
   "language": "python",
   "name": "python3"
  },
  "language_info": {
   "codemirror_mode": {
    "name": "ipython",
    "version": 3
   },
   "file_extension": ".py",
   "mimetype": "text/x-python",
   "name": "python",
   "nbconvert_exporter": "python",
   "pygments_lexer": "ipython3",
   "version": "3.6.5"
  },
  "toc": {
   "base_numbering": 1,
   "nav_menu": {},
   "number_sections": true,
   "sideBar": true,
   "skip_h1_title": false,
   "title_cell": "Table of Contents",
   "title_sidebar": "Contents",
   "toc_cell": false,
   "toc_position": {
    "height": "608px",
    "left": "545px",
    "top": "110px",
    "width": "384px"
   },
   "toc_section_display": true,
   "toc_window_display": false
  }
 },
 "nbformat": 4,
 "nbformat_minor": 2
}
