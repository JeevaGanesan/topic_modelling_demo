{
 "cells": [
  {
   "cell_type": "markdown",
   "metadata": {},
   "source": [
    "`K. Ong | Fall 2018`"
   ]
  },
  {
   "cell_type": "markdown",
   "metadata": {},
   "source": [
    "This notebook contains the workflow used to analyze survey data as part of the Deloitte NomComm project. We use a toy dataset of Amazon product reviews of items in the Grocery catgegory which be downloaded from [here](http://jmcauley.ucsd.edu/data/amazon/).\n",
    "\n",
    "The workflow runs as follows:\n",
    "- Preprocessing: tokenization and phrase detection\n",
    "- Topic Modelling: vectorization, grid search, model selection\n",
    "- Summarization: word/phrase counts \n",
    "\n",
    "Note that we call many functions from our helper files, which can be found [here](helpers)."
   ]
  },
  {
   "cell_type": "code",
   "execution_count": 1,
   "metadata": {
    "ExecuteTime": {
     "end_time": "2018-12-13T15:53:47.422937Z",
     "start_time": "2018-12-13T15:53:46.519555Z"
    }
   },
   "outputs": [
    {
     "data": {
      "text/html": [
       "<style>.container {width:100% !important;} </style>"
      ],
      "text/plain": [
       "<IPython.core.display.HTML object>"
      ]
     },
     "metadata": {},
     "output_type": "display_data"
    }
   ],
   "source": [
    "import warnings\n",
    "warnings.filterwarnings(\"ignore\")\n",
    "\n",
    "import time \n",
    "\n",
    "import pandas as pd \n",
    "import numpy as np\n",
    "import statistics\n",
    "import re\n",
    "import string\n",
    "import collections\n",
    "import matplotlib.pyplot as plt\n",
    "\n",
    "import sys\n",
    "path_to_helpers = 'helpers/'\n",
    "sys.path.insert(0, path_to_helpers)\n",
    "from helper_prep import * # contains preprocessing helper functions\n",
    "from helper_base import * # contains basic jupyter helper functions\n"
   ]
  },
  {
   "cell_type": "code",
   "execution_count": 2,
   "metadata": {
    "ExecuteTime": {
     "end_time": "2018-12-13T15:53:53.801719Z",
     "start_time": "2018-12-13T15:53:47.424335Z"
    }
   },
   "outputs": [],
   "source": [
    "filename = '../reviews_Grocery_and_Gourmet_Food_5.json.gz'\n",
    "raw = getDF(filename)"
   ]
  },
  {
   "cell_type": "code",
   "execution_count": 3,
   "metadata": {
    "ExecuteTime": {
     "end_time": "2018-12-13T15:53:53.808164Z",
     "start_time": "2018-12-13T15:53:53.804069Z"
    }
   },
   "outputs": [
    {
     "data": {
      "text/plain": [
       "(151254, 9)"
      ]
     },
     "execution_count": 3,
     "metadata": {},
     "output_type": "execute_result"
    }
   ],
   "source": [
    "raw.shape"
   ]
  },
  {
   "cell_type": "code",
   "execution_count": 4,
   "metadata": {
    "ExecuteTime": {
     "end_time": "2018-12-13T15:53:53.830517Z",
     "start_time": "2018-12-13T15:53:53.810170Z"
    },
    "scrolled": true
   },
   "outputs": [
    {
     "data": {
      "text/html": [
       "<div>\n",
       "<style scoped>\n",
       "    .dataframe tbody tr th:only-of-type {\n",
       "        vertical-align: middle;\n",
       "    }\n",
       "\n",
       "    .dataframe tbody tr th {\n",
       "        vertical-align: top;\n",
       "    }\n",
       "\n",
       "    .dataframe thead th {\n",
       "        text-align: right;\n",
       "    }\n",
       "</style>\n",
       "<table border=\"1\" class=\"dataframe\">\n",
       "  <thead>\n",
       "    <tr style=\"text-align: right;\">\n",
       "      <th></th>\n",
       "      <th>reviewerID</th>\n",
       "      <th>asin</th>\n",
       "      <th>reviewerName</th>\n",
       "      <th>helpful</th>\n",
       "      <th>reviewText</th>\n",
       "      <th>overall</th>\n",
       "      <th>summary</th>\n",
       "      <th>unixReviewTime</th>\n",
       "      <th>reviewTime</th>\n",
       "    </tr>\n",
       "  </thead>\n",
       "  <tbody>\n",
       "    <tr>\n",
       "      <th>0</th>\n",
       "      <td>A1VEELTKS8NLZB</td>\n",
       "      <td>616719923X</td>\n",
       "      <td>Amazon Customer</td>\n",
       "      <td>[0, 0]</td>\n",
       "      <td>Just another flavor of Kit Kat but the taste i...</td>\n",
       "      <td>4.0</td>\n",
       "      <td>Good Taste</td>\n",
       "      <td>1370044800</td>\n",
       "      <td>06 1, 2013</td>\n",
       "    </tr>\n",
       "    <tr>\n",
       "      <th>1</th>\n",
       "      <td>A14R9XMZVJ6INB</td>\n",
       "      <td>616719923X</td>\n",
       "      <td>amf0001</td>\n",
       "      <td>[0, 1]</td>\n",
       "      <td>I bought this on impulse and it comes from Jap...</td>\n",
       "      <td>3.0</td>\n",
       "      <td>3.5 stars,  sadly not as wonderful as I had hoped</td>\n",
       "      <td>1400457600</td>\n",
       "      <td>05 19, 2014</td>\n",
       "    </tr>\n",
       "    <tr>\n",
       "      <th>2</th>\n",
       "      <td>A27IQHDZFQFNGG</td>\n",
       "      <td>616719923X</td>\n",
       "      <td>Caitlin</td>\n",
       "      <td>[3, 4]</td>\n",
       "      <td>Really good. Great gift for any fan of green t...</td>\n",
       "      <td>4.0</td>\n",
       "      <td>Yum!</td>\n",
       "      <td>1381190400</td>\n",
       "      <td>10 8, 2013</td>\n",
       "    </tr>\n",
       "    <tr>\n",
       "      <th>3</th>\n",
       "      <td>A31QY5TASILE89</td>\n",
       "      <td>616719923X</td>\n",
       "      <td>DebraDownSth</td>\n",
       "      <td>[0, 0]</td>\n",
       "      <td>I had never had it before, was curious to see ...</td>\n",
       "      <td>5.0</td>\n",
       "      <td>Unexpected flavor meld</td>\n",
       "      <td>1369008000</td>\n",
       "      <td>05 20, 2013</td>\n",
       "    </tr>\n",
       "    <tr>\n",
       "      <th>4</th>\n",
       "      <td>A2LWK003FFMCI5</td>\n",
       "      <td>616719923X</td>\n",
       "      <td>Diana X.</td>\n",
       "      <td>[1, 2]</td>\n",
       "      <td>I've been looking forward to trying these afte...</td>\n",
       "      <td>4.0</td>\n",
       "      <td>Not a very strong tea flavor, but still yummy ...</td>\n",
       "      <td>1369526400</td>\n",
       "      <td>05 26, 2013</td>\n",
       "    </tr>\n",
       "  </tbody>\n",
       "</table>\n",
       "</div>"
      ],
      "text/plain": [
       "       reviewerID        asin     reviewerName helpful  \\\n",
       "0  A1VEELTKS8NLZB  616719923X  Amazon Customer  [0, 0]   \n",
       "1  A14R9XMZVJ6INB  616719923X          amf0001  [0, 1]   \n",
       "2  A27IQHDZFQFNGG  616719923X          Caitlin  [3, 4]   \n",
       "3  A31QY5TASILE89  616719923X     DebraDownSth  [0, 0]   \n",
       "4  A2LWK003FFMCI5  616719923X         Diana X.  [1, 2]   \n",
       "\n",
       "                                          reviewText  overall  \\\n",
       "0  Just another flavor of Kit Kat but the taste i...      4.0   \n",
       "1  I bought this on impulse and it comes from Jap...      3.0   \n",
       "2  Really good. Great gift for any fan of green t...      4.0   \n",
       "3  I had never had it before, was curious to see ...      5.0   \n",
       "4  I've been looking forward to trying these afte...      4.0   \n",
       "\n",
       "                                             summary  unixReviewTime  \\\n",
       "0                                         Good Taste      1370044800   \n",
       "1  3.5 stars,  sadly not as wonderful as I had hoped      1400457600   \n",
       "2                                               Yum!      1381190400   \n",
       "3                             Unexpected flavor meld      1369008000   \n",
       "4  Not a very strong tea flavor, but still yummy ...      1369526400   \n",
       "\n",
       "    reviewTime  \n",
       "0   06 1, 2013  \n",
       "1  05 19, 2014  \n",
       "2   10 8, 2013  \n",
       "3  05 20, 2013  \n",
       "4  05 26, 2013  "
      ]
     },
     "metadata": {},
     "output_type": "display_data"
    }
   ],
   "source": [
    "display_all(raw.head())"
   ]
  },
  {
   "cell_type": "markdown",
   "metadata": {},
   "source": [
    "# Some basic EDA"
   ]
  },
  {
   "cell_type": "code",
   "execution_count": 5,
   "metadata": {
    "ExecuteTime": {
     "end_time": "2018-12-13T15:53:53.884021Z",
     "start_time": "2018-12-13T15:53:53.832555Z"
    },
    "scrolled": true
   },
   "outputs": [
    {
     "name": "stdout",
     "output_type": "stream",
     "text": [
      "Number of Products:  8713\n",
      "Number of Reviewers:  14681\n",
      "Average Rating:  4.24\n",
      "Median Rating:  5.0\n"
     ]
    }
   ],
   "source": [
    "print('Number of Products: ', raw.asin.nunique())\n",
    "print('Number of Reviewers: ', raw.reviewerID.nunique())\n",
    "print('Average Rating: ', round(raw.overall.mean(),2))\n",
    "print('Median Rating: ', statistics.median(raw.overall))"
   ]
  },
  {
   "cell_type": "code",
   "execution_count": 6,
   "metadata": {
    "ExecuteTime": {
     "end_time": "2018-12-13T15:53:53.975327Z",
     "start_time": "2018-12-13T15:53:53.885486Z"
    },
    "scrolled": false
   },
   "outputs": [
    {
     "data": {
      "image/png": "[encoded data removed]",
      "text/plain": [
       "<Figure size 432x288 with 1 Axes>"
      ]
     },
     "metadata": {},
     "output_type": "display_data"
    }
   ],
   "source": [
    "import matplotlib.pyplot as plt\n",
    "plt.hist(raw.overall); plt.show()"
   ]
  },
  {
   "cell_type": "markdown",
   "metadata": {},
   "source": [
    "Notice that ratings are skewed positive. ([Here](https://hbr.org/2018/03/online-reviews-are-biased-heres-how-to-fix-th)'s an interesting article about this.)"
   ]
  },
  {
   "cell_type": "markdown",
   "metadata": {
    "ExecuteTime": {
     "end_time": "2018-12-12T19:47:29.326305Z",
     "start_time": "2018-12-12T19:47:29.323064Z"
    }
   },
   "source": [
    "Let's look at a breakdown of reviews over time: "
   ]
  },
  {
   "cell_type": "code",
   "execution_count": 7,
   "metadata": {
    "ExecuteTime": {
     "end_time": "2018-12-13T15:53:54.077206Z",
     "start_time": "2018-12-13T15:53:53.976849Z"
    }
   },
   "outputs": [],
   "source": [
    "raw['review_year'] = raw.reviewTime.apply(lambda x: int(x.split(',')[1].strip()))"
   ]
  },
  {
   "cell_type": "code",
   "execution_count": 8,
   "metadata": {
    "ExecuteTime": {
     "end_time": "2018-12-13T15:53:54.166386Z",
     "start_time": "2018-12-13T15:53:54.078853Z"
    },
    "scrolled": true
   },
   "outputs": [
    {
     "data": {
      "image/png": "[encoded data removed]",
      "text/plain": [
       "<Figure size 432x288 with 1 Axes>"
      ]
     },
     "metadata": {},
     "output_type": "display_data"
    }
   ],
   "source": [
    "plt.hist(raw.review_year); plt.show()"
   ]
  },
  {
   "cell_type": "code",
   "execution_count": 9,
   "metadata": {
    "ExecuteTime": {
     "end_time": "2018-12-13T15:53:54.177124Z",
     "start_time": "2018-12-13T15:53:54.168575Z"
    },
    "scrolled": true
   },
   "outputs": [
    {
     "data": {
      "text/plain": [
       "review_year\n",
       "2000        1\n",
       "2003        1\n",
       "2004       11\n",
       "2005       37\n",
       "2006      598\n",
       "2007     1826\n",
       "2008     5330\n",
       "2009     8417\n",
       "2010     8443\n",
       "2011    20059\n",
       "2012    25235\n",
       "2013    51899\n",
       "2014    29397\n",
       "dtype: int64"
      ]
     },
     "execution_count": 9,
     "metadata": {},
     "output_type": "execute_result"
    }
   ],
   "source": [
    "raw.groupby('review_year').size()"
   ]
  },
  {
   "cell_type": "markdown",
   "metadata": {},
   "source": [
    "Notice that number of reviews grows exponentially with time. Since this notebook is purely for illustrative purposes, let's reduce the data volume by selecting reviews only from 2013."
   ]
  },
  {
   "cell_type": "code",
   "execution_count": 10,
   "metadata": {
    "ExecuteTime": {
     "end_time": "2018-12-13T15:53:54.192583Z",
     "start_time": "2018-12-13T15:53:54.179328Z"
    }
   },
   "outputs": [
    {
     "data": {
      "text/plain": [
       "(51899, 10)"
      ]
     },
     "execution_count": 10,
     "metadata": {},
     "output_type": "execute_result"
    }
   ],
   "source": [
    "df = raw[raw.review_year == 2013]; df.shape"
   ]
  },
  {
   "cell_type": "markdown",
   "metadata": {},
   "source": [
    "# Preprocessing"
   ]
  },
  {
   "cell_type": "markdown",
   "metadata": {},
   "source": [
    "Notice that our dataset contains two text fields: `reviewText`, which contains the body of the review, and `summary`, which contains the review title. Let's agree to use the former based on the hypothesis that more data leads to more cohesive topics."
   ]
  },
  {
   "cell_type": "markdown",
   "metadata": {},
   "source": [
    "Below, we call the function `prep_dataset()`, which lowers, replaces common word truncations, and removes all special characters and performs lemmatization."
   ]
  },
  {
   "cell_type": "code",
   "execution_count": 11,
   "metadata": {
    "ExecuteTime": {
     "end_time": "2018-12-13T15:56:46.613372Z",
     "start_time": "2018-12-13T15:53:54.194326Z"
    },
    "scrolled": false
   },
   "outputs": [
    {
     "name": "stdout",
     "output_type": "stream",
     "text": [
      "Dimension of Text:  (51894, 11)\n",
      "Number of Tokens:  4456211\n",
      "Number of Lemmas:  4457180\n",
      "\n"
     ]
    }
   ],
   "source": [
    "df, df_tokens, df_lemmas = prep_dataset(df, 'reviewText', 'reviews_clean')"
   ]
  },
  {
   "cell_type": "code",
   "execution_count": 12,
   "metadata": {
    "ExecuteTime": {
     "end_time": "2018-12-13T15:56:46.629081Z",
     "start_time": "2018-12-13T15:56:46.615254Z"
    },
    "scrolled": true
   },
   "outputs": [
    {
     "data": {
      "text/html": [
       "<div>\n",
       "<style scoped>\n",
       "    .dataframe tbody tr th:only-of-type {\n",
       "        vertical-align: middle;\n",
       "    }\n",
       "\n",
       "    .dataframe tbody tr th {\n",
       "        vertical-align: top;\n",
       "    }\n",
       "\n",
       "    .dataframe thead th {\n",
       "        text-align: right;\n",
       "    }\n",
       "</style>\n",
       "<table border=\"1\" class=\"dataframe\">\n",
       "  <thead>\n",
       "    <tr style=\"text-align: right;\">\n",
       "      <th></th>\n",
       "      <th>reviewerID</th>\n",
       "      <th>asin</th>\n",
       "      <th>reviewerName</th>\n",
       "      <th>helpful</th>\n",
       "      <th>reviewText</th>\n",
       "      <th>overall</th>\n",
       "      <th>summary</th>\n",
       "      <th>unixReviewTime</th>\n",
       "      <th>reviewTime</th>\n",
       "      <th>review_year</th>\n",
       "      <th>reviews_clean</th>\n",
       "    </tr>\n",
       "  </thead>\n",
       "  <tbody>\n",
       "    <tr>\n",
       "      <th>0</th>\n",
       "      <td>A1VEELTKS8NLZB</td>\n",
       "      <td>616719923X</td>\n",
       "      <td>Amazon Customer</td>\n",
       "      <td>[0, 0]</td>\n",
       "      <td>Just another flavor of Kit Kat but the taste i...</td>\n",
       "      <td>4.0</td>\n",
       "      <td>Good Taste</td>\n",
       "      <td>1370044800</td>\n",
       "      <td>06 1, 2013</td>\n",
       "      <td>2013</td>\n",
       "      <td>just another flavor of kit kat but the taste i...</td>\n",
       "    </tr>\n",
       "  </tbody>\n",
       "</table>\n",
       "</div>"
      ],
      "text/plain": [
       "       reviewerID        asin     reviewerName helpful  \\\n",
       "0  A1VEELTKS8NLZB  616719923X  Amazon Customer  [0, 0]   \n",
       "\n",
       "                                          reviewText  overall     summary  \\\n",
       "0  Just another flavor of Kit Kat but the taste i...      4.0  Good Taste   \n",
       "\n",
       "   unixReviewTime  reviewTime  review_year  \\\n",
       "0      1370044800  06 1, 2013         2013   \n",
       "\n",
       "                                       reviews_clean  \n",
       "0  just another flavor of kit kat but the taste i...  "
      ]
     },
     "metadata": {},
     "output_type": "display_data"
    }
   ],
   "source": [
    "display_all(df[:1])"
   ]
  },
  {
   "cell_type": "markdown",
   "metadata": {},
   "source": [
    "# A quick look at frequencies"
   ]
  },
  {
   "cell_type": "code",
   "execution_count": 13,
   "metadata": {
    "ExecuteTime": {
     "end_time": "2018-12-13T15:56:47.141443Z",
     "start_time": "2018-12-13T15:56:46.631087Z"
    }
   },
   "outputs": [],
   "source": [
    "tokens_nonstop = [i for i in df_tokens if i not in en_stopwords]\n",
    "lemmas_nonstop = [i for i in df_lemmas if i not in en_stopwords]"
   ]
  },
  {
   "cell_type": "code",
   "execution_count": 14,
   "metadata": {
    "ExecuteTime": {
     "end_time": "2018-12-13T15:56:47.760772Z",
     "start_time": "2018-12-13T15:56:47.143001Z"
    }
   },
   "outputs": [
    {
     "data": {
      "text/plain": [
       "[('like', 28310),\n",
       " ('good', 23512),\n",
       " ('taste', 21212),\n",
       " ('flavor', 19065),\n",
       " ('coffee', 16748),\n",
       " ('one', 15956),\n",
       " ('tea', 15880),\n",
       " ('great', 15632),\n",
       " ('would', 13322),\n",
       " ('product', 11617)]"
      ]
     },
     "execution_count": 14,
     "metadata": {},
     "output_type": "execute_result"
    }
   ],
   "source": [
    "tokens_counter = collections.Counter(tokens_nonstop)\n",
    "sorted(tokens_counter.items(), key=lambda x: -x[1])[:10]"
   ]
  },
  {
   "cell_type": "code",
   "execution_count": 15,
   "metadata": {
    "ExecuteTime": {
     "end_time": "2018-12-13T15:56:48.006685Z",
     "start_time": "2018-12-13T15:56:47.762765Z"
    },
    "scrolled": false
   },
   "outputs": [
    {
     "data": {
      "text/plain": [
       "[('like', 31418),\n",
       " ('taste', 30234),\n",
       " ('flavor', 24603),\n",
       " ('good', 23823),\n",
       " ('use', 21156),\n",
       " ('make', 19980),\n",
       " ('coffee', 17749),\n",
       " ('tea', 17682),\n",
       " ('one', 17478),\n",
       " ('great', 15632)]"
      ]
     },
     "execution_count": 15,
     "metadata": {},
     "output_type": "execute_result"
    }
   ],
   "source": [
    "lemmas_counter = collections.Counter(lemmas_nonstop)\n",
    "sorted(lemmas_counter.items(), key=lambda x: -x[1])[:10]"
   ]
  },
  {
   "cell_type": "markdown",
   "metadata": {},
   "source": [
    "Notice that lemmatization significantly changes the distribution of tokens - the top token 'like' occurs 11% more times when taking into account its morphological variants."
   ]
  },
  {
   "cell_type": "markdown",
   "metadata": {},
   "source": [
    "# Phrase detection"
   ]
  },
  {
   "cell_type": "markdown",
   "metadata": {},
   "source": [
    "Below we use `find_ngrams()` to perform phrase detection using two approaches:\n",
    "- Parts-of-speech, which filters for appropriate POS combinations as discussed [here](https://medium.com/@nicharuch/collocations-identifying-phrases-that-act-like-individual-words-in-nlp-f58a93a2f84a).\n",
    "- Pointwise mutual information (PMI) score with frequency filter\n",
    "\n",
    "For the PMI approach, our function takes in arguments for `n`, the number of occurrences above which to consider, and `pct`, the PMI score percentile for cut off. We generally found that this approach was less effective for our corpus, but it is included here for illustrative purposes. Note that by default, `find_ngrams()` uses the POS-approach only."
   ]
  },
  {
   "cell_type": "code",
   "execution_count": 16,
   "metadata": {
    "ExecuteTime": {
     "end_time": "2018-12-13T15:59:29.709586Z",
     "start_time": "2018-12-13T15:56:48.008375Z"
    },
    "scrolled": true
   },
   "outputs": [],
   "source": [
    "bigrams_pos, trigrams_pos, bigrams_pmi, trigrams_pmi = find_ngrams(df_lemmas, n=20, pct=95, pmi_flag=True) "
   ]
  },
  {
   "cell_type": "code",
   "execution_count": 17,
   "metadata": {
    "ExecuteTime": {
     "end_time": "2018-12-13T16:00:45.930449Z",
     "start_time": "2018-12-13T16:00:45.922561Z"
    },
    "scrolled": false
   },
   "outputs": [
    {
     "data": {
      "text/html": [
       "<div>\n",
       "<style scoped>\n",
       "    .dataframe tbody tr th:only-of-type {\n",
       "        vertical-align: middle;\n",
       "    }\n",
       "\n",
       "    .dataframe tbody tr th {\n",
       "        vertical-align: top;\n",
       "    }\n",
       "\n",
       "    .dataframe thead th {\n",
       "        text-align: right;\n",
       "    }\n",
       "</style>\n",
       "<table border=\"1\" class=\"dataframe\">\n",
       "  <thead>\n",
       "    <tr style=\"text-align: right;\">\n",
       "      <th></th>\n",
       "      <th>bigram</th>\n",
       "      <th>freq</th>\n",
       "    </tr>\n",
       "  </thead>\n",
       "  <tbody>\n",
       "    <tr>\n",
       "      <th>11370</th>\n",
       "      <td>(peanut, butter)</td>\n",
       "      <td>1970</td>\n",
       "    </tr>\n",
       "    <tr>\n",
       "      <th>38</th>\n",
       "      <td>(green, tea)</td>\n",
       "      <td>1770</td>\n",
       "    </tr>\n",
       "    <tr>\n",
       "      <th>9086</th>\n",
       "      <td>(coconut, oil)</td>\n",
       "      <td>1686</td>\n",
       "    </tr>\n",
       "    <tr>\n",
       "      <th>1817</th>\n",
       "      <td>(grocery, store)</td>\n",
       "      <td>1212</td>\n",
       "    </tr>\n",
       "    <tr>\n",
       "      <th>10406</th>\n",
       "      <td>(tea, bag)</td>\n",
       "      <td>1160</td>\n",
       "    </tr>\n",
       "  </tbody>\n",
       "</table>\n",
       "</div>"
      ],
      "text/plain": [
       "                 bigram  freq\n",
       "11370  (peanut, butter)  1970\n",
       "38         (green, tea)  1770\n",
       "9086     (coconut, oil)  1686\n",
       "1817   (grocery, store)  1212\n",
       "10406        (tea, bag)  1160"
      ]
     },
     "execution_count": 17,
     "metadata": {},
     "output_type": "execute_result"
    }
   ],
   "source": [
    "bigrams_pos[:5]"
   ]
  },
  {
   "cell_type": "code",
   "execution_count": 18,
   "metadata": {
    "ExecuteTime": {
     "end_time": "2018-12-13T16:00:46.671512Z",
     "start_time": "2018-12-13T16:00:46.664142Z"
    }
   },
   "outputs": [
    {
     "data": {
      "text/html": [
       "<div>\n",
       "<style scoped>\n",
       "    .dataframe tbody tr th:only-of-type {\n",
       "        vertical-align: middle;\n",
       "    }\n",
       "\n",
       "    .dataframe tbody tr th {\n",
       "        vertical-align: top;\n",
       "    }\n",
       "\n",
       "    .dataframe thead th {\n",
       "        text-align: right;\n",
       "    }\n",
       "</style>\n",
       "<table border=\"1\" class=\"dataframe\">\n",
       "  <thead>\n",
       "    <tr style=\"text-align: right;\">\n",
       "      <th></th>\n",
       "      <th>trigram</th>\n",
       "      <th>freq</th>\n",
       "    </tr>\n",
       "  </thead>\n",
       "  <tbody>\n",
       "    <tr>\n",
       "      <th>7736</th>\n",
       "      <td>(local, grocery, store)</td>\n",
       "      <td>253</td>\n",
       "    </tr>\n",
       "    <tr>\n",
       "      <th>19558</th>\n",
       "      <td>(pu, erh, tea)</td>\n",
       "      <td>216</td>\n",
       "    </tr>\n",
       "    <tr>\n",
       "      <th>257332</th>\n",
       "      <td>(whole, grain, pasta)</td>\n",
       "      <td>176</td>\n",
       "    </tr>\n",
       "    <tr>\n",
       "      <th>87028</th>\n",
       "      <td>(taste, pretty, good)</td>\n",
       "      <td>171</td>\n",
       "    </tr>\n",
       "    <tr>\n",
       "      <th>66062</th>\n",
       "      <td>(high, fructose, corn)</td>\n",
       "      <td>165</td>\n",
       "    </tr>\n",
       "  </tbody>\n",
       "</table>\n",
       "</div>"
      ],
      "text/plain": [
       "                        trigram  freq\n",
       "7736    (local, grocery, store)   253\n",
       "19558            (pu, erh, tea)   216\n",
       "257332    (whole, grain, pasta)   176\n",
       "87028     (taste, pretty, good)   171\n",
       "66062    (high, fructose, corn)   165"
      ]
     },
     "execution_count": 18,
     "metadata": {},
     "output_type": "execute_result"
    }
   ],
   "source": [
    "trigrams_pos[:5]"
   ]
  },
  {
   "cell_type": "code",
   "execution_count": 19,
   "metadata": {
    "ExecuteTime": {
     "end_time": "2018-12-13T16:00:52.847375Z",
     "start_time": "2018-12-13T16:00:52.839735Z"
    },
    "scrolled": true
   },
   "outputs": [
    {
     "data": {
      "text/html": [
       "<div>\n",
       "<style scoped>\n",
       "    .dataframe tbody tr th:only-of-type {\n",
       "        vertical-align: middle;\n",
       "    }\n",
       "\n",
       "    .dataframe tbody tr th {\n",
       "        vertical-align: top;\n",
       "    }\n",
       "\n",
       "    .dataframe thead th {\n",
       "        text-align: right;\n",
       "    }\n",
       "</style>\n",
       "<table border=\"1\" class=\"dataframe\">\n",
       "  <thead>\n",
       "    <tr style=\"text-align: right;\">\n",
       "      <th></th>\n",
       "      <th>bigram</th>\n",
       "      <th>PMI</th>\n",
       "    </tr>\n",
       "  </thead>\n",
       "  <tbody>\n",
       "    <tr>\n",
       "      <th>0</th>\n",
       "      <td>(567, 557)</td>\n",
       "      <td>17.765772</td>\n",
       "    </tr>\n",
       "    <tr>\n",
       "      <th>1</th>\n",
       "      <td>(n/a, 214)</td>\n",
       "      <td>17.695382</td>\n",
       "    </tr>\n",
       "    <tr>\n",
       "      <th>2</th>\n",
       "      <td>(557, 575)</td>\n",
       "      <td>17.628268</td>\n",
       "    </tr>\n",
       "    <tr>\n",
       "      <th>3</th>\n",
       "      <td>(109, 151)</td>\n",
       "      <td>17.624993</td>\n",
       "    </tr>\n",
       "    <tr>\n",
       "      <th>4</th>\n",
       "      <td>(368, 567)</td>\n",
       "      <td>17.564138</td>\n",
       "    </tr>\n",
       "  </tbody>\n",
       "</table>\n",
       "</div>"
      ],
      "text/plain": [
       "       bigram        PMI\n",
       "0  (567, 557)  17.765772\n",
       "1  (n/a, 214)  17.695382\n",
       "2  (557, 575)  17.628268\n",
       "3  (109, 151)  17.624993\n",
       "4  (368, 567)  17.564138"
      ]
     },
     "execution_count": 19,
     "metadata": {},
     "output_type": "execute_result"
    }
   ],
   "source": [
    "bigrams_pmi[:5]"
   ]
  },
  {
   "cell_type": "code",
   "execution_count": 20,
   "metadata": {
    "ExecuteTime": {
     "end_time": "2018-12-13T16:00:53.027811Z",
     "start_time": "2018-12-13T16:00:53.020069Z"
    },
    "scrolled": true
   },
   "outputs": [
    {
     "data": {
      "text/html": [
       "<div>\n",
       "<style scoped>\n",
       "    .dataframe tbody tr th:only-of-type {\n",
       "        vertical-align: middle;\n",
       "    }\n",
       "\n",
       "    .dataframe tbody tr th {\n",
       "        vertical-align: top;\n",
       "    }\n",
       "\n",
       "    .dataframe thead th {\n",
       "        text-align: right;\n",
       "    }\n",
       "</style>\n",
       "<table border=\"1\" class=\"dataframe\">\n",
       "  <thead>\n",
       "    <tr style=\"text-align: right;\">\n",
       "      <th></th>\n",
       "      <th>trigram</th>\n",
       "      <th>PMI</th>\n",
       "    </tr>\n",
       "  </thead>\n",
       "  <tbody>\n",
       "    <tr>\n",
       "      <th>0</th>\n",
       "      <td>(567, 557, 575)</td>\n",
       "      <td>35.394040</td>\n",
       "    </tr>\n",
       "    <tr>\n",
       "      <th>1</th>\n",
       "      <td>(368, 567, 557)</td>\n",
       "      <td>35.329910</td>\n",
       "    </tr>\n",
       "    <tr>\n",
       "      <th>2</th>\n",
       "      <td>(371, 368, 567)</td>\n",
       "      <td>35.128276</td>\n",
       "    </tr>\n",
       "    <tr>\n",
       "      <th>3</th>\n",
       "      <td>(490, 371, 368)</td>\n",
       "      <td>34.651838</td>\n",
       "    </tr>\n",
       "    <tr>\n",
       "      <th>4</th>\n",
       "      <td>(534, 490, 371)</td>\n",
       "      <td>34.651838</td>\n",
       "    </tr>\n",
       "  </tbody>\n",
       "</table>\n",
       "</div>"
      ],
      "text/plain": [
       "           trigram        PMI\n",
       "0  (567, 557, 575)  35.394040\n",
       "1  (368, 567, 557)  35.329910\n",
       "2  (371, 368, 567)  35.128276\n",
       "3  (490, 371, 368)  34.651838\n",
       "4  (534, 490, 371)  34.651838"
      ]
     },
     "execution_count": 20,
     "metadata": {},
     "output_type": "execute_result"
    }
   ],
   "source": [
    "trigrams_pmi[:5]"
   ]
  },
  {
   "cell_type": "markdown",
   "metadata": {},
   "source": [
    "We can see that the parts-of-speech approach is more effective at filtering out nonsensensical collocations. In the case of these reviews, alot of numerical collocations are picked up (from reviews such as the following), which could in practice be overcome by filtering out tokens that are numeric. However, for the purposes of this demo, let's proceed with the n-grams identified via the first approach."
   ]
  },
  {
   "cell_type": "code",
   "execution_count": 21,
   "metadata": {
    "ExecuteTime": {
     "end_time": "2018-12-13T16:00:56.109748Z",
     "start_time": "2018-12-13T16:00:56.057535Z"
    }
   },
   "outputs": [
    {
     "data": {
      "text/plain": [
       "array(['UPDATE INFO AS OF 1/29/2014List Price: $20.94Price: $4.91 ($0.02 / oz)You Save: $16.03 (77%)$0.02 an oz for 16oz in a pound will be only $0.32 a bag not $4.91 as claimed by the seller. Flax seeds sells never sells for $20.94 a bag as claimed by the seller. It seems that the seller keeps changing the sale numbers in order to sell a product. Arrowhead is an excellent brand with many great organic products where others fail to produce in organic form but this approach is just misleading and not necessary at all.*****************************************************************************************************************************ORIGINAL REVIEW 10/11/2013Seller claims;List Price: $40.61Price: $8.24 ($0.04/oz) & FREE Shipping on orders over $25You Save: $32.37 (80%)That is misleading. No flax sells for $40 a pound. At $8.24 a pound it is 824/16=51.5 infact something like more than $0.51 cents an oz not $0.04 an oz. Arrowhead is a good brand but the seller is misrepresenting the facts.*****************************************************************************************************************************MISLEADING LABELING: sprinkle a tablespoon of ground seeds... 14oz not 16 oz since it is golden not brown.It is shame that Arrowhead with so many fine organic products will misguide consumers just to sell a product. In the beginning there was only one color flax which was brown but now there is golden as well. Usually in organic form except in supplement form, the farmer co-up flax or any type of seeds are always more expensive due to their practices which is not sold on Amazon at all. Brown and golden have the same nutritional value so I never consume one, I mix brown and golden regardless. In some cases Golden is more expensive than brown. If not specified on the labeling the type of flax, then it means brown flax not golden flax.OILS: I started consuming flax oil years ago per my physician\\'s advise not knowing that majority forms of flaxseeds are rancid and absolutely worthless due to oil in seeds. As whole, human body cannot digest any seed that size with that consistency regardless if it is flax, sesame, amaranth, chia, millet, etc. unless cooked or in ground form since human body cannot digest in its natural form. As SUPPLEMENT, TABLET FORM, OIL, POWDER, GROUND IN BAGS are all worthless and hardly offer any nutrients unless; seeds are fresh, not old which means rancid, not in oil form, not in supplement form, not hulled, ground and consumed within few days, kept in dark cold temperatures, away from light-sun-moisture since the oil in seeds and nuts go rancid regardless. Rancid is a process of Mother Nature and has nothing to do with organic, conventional, GMO or the type of seed. Advising consumers to purchase different brands of flax in oil form or powder or tablet form are all marketing tools as well. It is not important even if the oil or the tablet or the powder in bags are even frozen at the time of production till you consume since any seed, and I mean any type of seed regardless of the type or brand will go rancid once ground and cracked open since the shell, the protection is removed and air will get to the oil of the seed much quicker than when the seed is in a complete un-hulled form. The best example of rancidity is brown rice. Place some in freezer and you will notice in few months it will not even cook since the oils have gone rancid even if you keep the rice in a sealed container, wrapped in the most elaborate sealing containers in the world regardless. Chia is the only seed that claims it does not need to be ground but that is a marketing tool just like the price of chia is since it comes from outside US and individuals without any knowledge about nutrition always associate those as superior for exotic reasons and pay a hefty price for a food item with less nutrients. I ground in my coffee grinder sesame, flax, chia, amaranth, hemp then add cocoa, isolate protein, soy milk and consume it before my workouts on daily basis for its vitamins, minerals, protein and many nutrients, without much spike in my glucose. Un-hulled seeds are full of nutrients. I never consume hulled seeds which are empty calories, absolutely worthless since the nutrients have been removed. After many years of consuming seeds, I chose to ground all seeds myself and seal immediately, kept in freezer and consumed within few days which I am very happy with the results since after all looking fit and well is just result of training hard and living a healthy lifestyle which surrounds any professional athlete or a happy individual involved in many sport activities regardless.OMEGA 3: You will never see ALA on any fish you purchase. Infact you will never see ALA on any fish oil supplement either, you will only see EPA and DHA. ALA is not the same as EPA or DHA and it is the same for any brand of flax seed regardless if such flax seed oil is in solid oil form in a bottle or a capsule form. Greens, nuts, seeds, fruits and vegetables do not offer any omega-3 since omega-3 EPA/DHA is an animal source. Flaxseeds offer more ALA than chia, 22.8gr vs. 17.8gr. There are two major types of omega-3 fatty acids in our diets: One type is alpha-linolenic acid (ALA), which is found in plants the other type, eicosapentaenoic acid (EPA) and docosahexaenoic acid (DHA), is found in fatty fish. The body partially converts ALA to EPA and DHA. There is no proof what percent of ALA gets converted by human body to EPA or DHA. You can consume all ALAs that you want and depending to your genes it may never turn any into omega-3. Blood test is the only way to see the affects. I get omega 3 from sardines although flaxseeds are important part of my diet since flax offers so many different nutrients.FIBER: Fiber is essential for body since fiber absorbs the unwanted liquid in the gut and body has to defecate that blown up fiber which in return lowers cholesterol, blood pressure, etc. and brings comfort and efficiency to human body unlike fat which stays in human body unless needed for energy. Flax is high in fiber.MINERALS: Flax is the king of nutrients when it comes to minerals so important to me as a whole delicious seed; highest ALA, highest magnesium, highest potassium, calcium with the healthiest fat.Accordingly for 100gr servings size of;SESAME__FLAX__CHIA__AMARANTH__QUINOA__HEMP__PISTACHIO__ALMOND__CASHEWCALORIES565__534__490__371__368__567__557__575__553SAT FAT34__18__16__7__4__17__27__19__39CALCIUM99__26__63__16__5__0__11__26__4MAGNESIUM89__98__0__62__49__167__30__67__73POTASSIUM14__23__5__15__16__167__29__20__19ZINC48__29__23__19__21__83__15__21__39FIBER47__109__151__8__11__4 __41__49__13PHYTOSTEROLS714__0__0__0__0__N/A__214__0__0FRESHNESS: Fresh means nutritious and delicious. I consume lots of seeds, beans, grains, vegetables, etc. and freshness is a priority regardless of the brand so I always purchase my food ingredients in small quantities from reputable sellers with high turnover. When fresh, food is nutritious and that goes for any food in any form, from frozen to canned. Fresh food is nutritious as well as delicious since nutrients give food its delicious taste. When old or rancid, nutrients are gone and any food item becomes an empty calories with no taste and absolutely worthless regardless of the brand or price, organic or conventional.FAT: The most important hormone, and the one that\\'s crucial for weight loss, is insulin. Insulin is the hormone that controls fat storage. A high-carb diet increases the amount of glucose in the bloodstream, which in turn means you produce more insulin. The more insulin the body produces, the more fat gets stored. A low-carb diet means less insulin, making it easier to lose weight because less fat is then stored. For intake of a massive 5,000 calories every day for three weeks with calories from a low-fat, high-carb diet; and for another three weeks with calories from more fat no carbs with exactly the same amount of calories, with moderate exercise regimen each time; low-fat diet stacked on 16&#8201;lb with 3.7\" (9.5&#8201;cm) around the middle where the high fat diet offered a loss of 2.5 lb and loss of 1\"(2.5&#8201;cm) from waistline. If calorie is calorie, then in my case and my experience shows that I would prefer to get my calories from a healthy fat from sesame seed and almond than the calories from the carbs in chia. Almonds have the highest fat calories from all the seeds and nuts, a priority to me in type of calories since I am kind of vegan who consumes fish but hardly any meat, chicken, pork or dairy.Accordingly for 28gr/1oz servings size of;Amaranth__quinoa__flax__peanut__almonds__chia__sesame__sunflower__cashew__pistachioTOTAL CALORIES28.6__33.6__ 150__166__161__137__160__162__155__156CALORIES FROM CARBS21.2__23.6__33__28.9__24.6__50__26.8__31.2__34.4__31.8CALORIES FROM FAT3.7__4.8__98.8__121__116__72.1__116__112__103__104CALORIES FROM PROTEIN3.7__4.9__17.8__16.8__20.6__15.2__17.2__19.1__17.7__20For almost the same total calories sesame offers half of chia\\'s \"CARB CALORIES\" gain but 50% more \"FAT CALORIES\" with high amount of nutrients for weight loss. Sesame, flax and hemp are my superfood but almonds are the superfood when it comes to vitamin E. Americans consume enough peanut butter each year to coat the floor of the Grand Canyon, priced for 1/3 but hardly with any nutrients except B-complex. No wonder Burma is the highest producer of sesame in the world. But none of those kings offer ALA and not only flax\\'s high ALA is needed but it balances the omega-6 which is so worthless and abandoned in all foods that not healthy at all. Flax only in powder form, ground freshly.'],\n",
       "      dtype=object)"
      ]
     },
     "execution_count": 21,
     "metadata": {},
     "output_type": "execute_result"
    }
   ],
   "source": [
    "df[df.reviewText.str.contains('567')][:1].reviewText.values"
   ]
  },
  {
   "cell_type": "markdown",
   "metadata": {
    "ExecuteTime": {
     "end_time": "2018-12-12T22:21:46.158681Z",
     "start_time": "2018-12-12T22:21:46.155132Z"
    }
   },
   "source": [
    "We used a frequency filter to decide which bigrams and trigrams to include as \"phrases\". These thresholds should be manually updated each time by looking at whether the phrases at the lower end of the frequency range make sense and are sufficiently cohesive. For instance, consider the difference in phrases using a threshold of 100 vs. 90 shown below:"
   ]
  },
  {
   "cell_type": "code",
   "execution_count": 22,
   "metadata": {
    "ExecuteTime": {
     "end_time": "2018-12-13T16:02:42.605954Z",
     "start_time": "2018-12-13T16:02:42.595632Z"
    },
    "scrolled": false
   },
   "outputs": [
    {
     "data": {
      "text/html": [
       "<div>\n",
       "<style scoped>\n",
       "    .dataframe tbody tr th:only-of-type {\n",
       "        vertical-align: middle;\n",
       "    }\n",
       "\n",
       "    .dataframe tbody tr th {\n",
       "        vertical-align: top;\n",
       "    }\n",
       "\n",
       "    .dataframe thead th {\n",
       "        text-align: right;\n",
       "    }\n",
       "</style>\n",
       "<table border=\"1\" class=\"dataframe\">\n",
       "  <thead>\n",
       "    <tr style=\"text-align: right;\">\n",
       "      <th></th>\n",
       "      <th>bigram</th>\n",
       "      <th>freq</th>\n",
       "    </tr>\n",
       "  </thead>\n",
       "  <tbody>\n",
       "    <tr>\n",
       "      <th>51666</th>\n",
       "      <td>(peppermint, tea)</td>\n",
       "      <td>102</td>\n",
       "    </tr>\n",
       "    <tr>\n",
       "      <th>8561</th>\n",
       "      <td>(wonderful, flavor)</td>\n",
       "      <td>102</td>\n",
       "    </tr>\n",
       "    <tr>\n",
       "      <th>57151</th>\n",
       "      <td>(roast, garlic)</td>\n",
       "      <td>102</td>\n",
       "    </tr>\n",
       "    <tr>\n",
       "      <th>37205</th>\n",
       "      <td>(caramel, flavor)</td>\n",
       "      <td>101</td>\n",
       "    </tr>\n",
       "    <tr>\n",
       "      <th>25226</th>\n",
       "      <td>(start, use)</td>\n",
       "      <td>101</td>\n",
       "    </tr>\n",
       "    <tr>\n",
       "      <th>9085</th>\n",
       "      <td>(organic, coconut)</td>\n",
       "      <td>101</td>\n",
       "    </tr>\n",
       "    <tr>\n",
       "      <th>36441</th>\n",
       "      <td>(something, sweet)</td>\n",
       "      <td>101</td>\n",
       "    </tr>\n",
       "    <tr>\n",
       "      <th>70733</th>\n",
       "      <td>(better, taste)</td>\n",
       "      <td>101</td>\n",
       "    </tr>\n",
       "    <tr>\n",
       "      <th>15481</th>\n",
       "      <td>(chicken, broth)</td>\n",
       "      <td>101</td>\n",
       "    </tr>\n",
       "    <tr>\n",
       "      <th>2102</th>\n",
       "      <td>(great, quality)</td>\n",
       "      <td>101</td>\n",
       "    </tr>\n",
       "  </tbody>\n",
       "</table>\n",
       "</div>"
      ],
      "text/plain": [
       "                    bigram  freq\n",
       "51666    (peppermint, tea)   102\n",
       "8561   (wonderful, flavor)   102\n",
       "57151      (roast, garlic)   102\n",
       "37205    (caramel, flavor)   101\n",
       "25226         (start, use)   101\n",
       "9085    (organic, coconut)   101\n",
       "36441   (something, sweet)   101\n",
       "70733      (better, taste)   101\n",
       "15481     (chicken, broth)   101\n",
       "2102      (great, quality)   101"
      ]
     },
     "execution_count": 22,
     "metadata": {},
     "output_type": "execute_result"
    }
   ],
   "source": [
    "bigrams_pos[bigrams_pos.freq>100].tail(10)"
   ]
  },
  {
   "cell_type": "code",
   "execution_count": 23,
   "metadata": {
    "ExecuteTime": {
     "end_time": "2018-12-13T16:02:42.988082Z",
     "start_time": "2018-12-13T16:02:42.978006Z"
    },
    "scrolled": true
   },
   "outputs": [
    {
     "data": {
      "text/html": [
       "<div>\n",
       "<style scoped>\n",
       "    .dataframe tbody tr th:only-of-type {\n",
       "        vertical-align: middle;\n",
       "    }\n",
       "\n",
       "    .dataframe tbody tr th {\n",
       "        vertical-align: top;\n",
       "    }\n",
       "\n",
       "    .dataframe thead th {\n",
       "        text-align: right;\n",
       "    }\n",
       "</style>\n",
       "<table border=\"1\" class=\"dataframe\">\n",
       "  <thead>\n",
       "    <tr style=\"text-align: right;\">\n",
       "      <th></th>\n",
       "      <th>bigram</th>\n",
       "      <th>freq</th>\n",
       "    </tr>\n",
       "  </thead>\n",
       "  <tbody>\n",
       "    <tr>\n",
       "      <th>2361</th>\n",
       "      <td>(paper, filter)</td>\n",
       "      <td>92</td>\n",
       "    </tr>\n",
       "    <tr>\n",
       "      <th>22830</th>\n",
       "      <td>(kcup, brewer)</td>\n",
       "      <td>92</td>\n",
       "    </tr>\n",
       "    <tr>\n",
       "      <th>16846</th>\n",
       "      <td>(mac, n)</td>\n",
       "      <td>92</td>\n",
       "    </tr>\n",
       "    <tr>\n",
       "      <th>60400</th>\n",
       "      <td>(whole, thing)</td>\n",
       "      <td>92</td>\n",
       "    </tr>\n",
       "    <tr>\n",
       "      <th>2219</th>\n",
       "      <td>(mountain, coffee)</td>\n",
       "      <td>91</td>\n",
       "    </tr>\n",
       "    <tr>\n",
       "      <th>20645</th>\n",
       "      <td>(recipe, call)</td>\n",
       "      <td>91</td>\n",
       "    </tr>\n",
       "    <tr>\n",
       "      <th>87564</th>\n",
       "      <td>(mill, product)</td>\n",
       "      <td>91</td>\n",
       "    </tr>\n",
       "    <tr>\n",
       "      <th>302720</th>\n",
       "      <td>(fog, chaser)</td>\n",
       "      <td>91</td>\n",
       "    </tr>\n",
       "    <tr>\n",
       "      <th>8292</th>\n",
       "      <td>(sweet, flavor)</td>\n",
       "      <td>91</td>\n",
       "    </tr>\n",
       "    <tr>\n",
       "      <th>1139</th>\n",
       "      <td>(great, addition)</td>\n",
       "      <td>91</td>\n",
       "    </tr>\n",
       "  </tbody>\n",
       "</table>\n",
       "</div>"
      ],
      "text/plain": [
       "                    bigram  freq\n",
       "2361       (paper, filter)    92\n",
       "22830       (kcup, brewer)    92\n",
       "16846             (mac, n)    92\n",
       "60400       (whole, thing)    92\n",
       "2219    (mountain, coffee)    91\n",
       "20645       (recipe, call)    91\n",
       "87564      (mill, product)    91\n",
       "302720       (fog, chaser)    91\n",
       "8292       (sweet, flavor)    91\n",
       "1139     (great, addition)    91"
      ]
     },
     "execution_count": 23,
     "metadata": {},
     "output_type": "execute_result"
    }
   ],
   "source": [
    "bigrams_pos[bigrams_pos.freq>90].tail(10)"
   ]
  },
  {
   "cell_type": "code",
   "execution_count": 24,
   "metadata": {
    "ExecuteTime": {
     "end_time": "2018-12-13T16:02:59.107190Z",
     "start_time": "2018-12-13T16:02:59.101535Z"
    }
   },
   "outputs": [
    {
     "name": "stdout",
     "output_type": "stream",
     "text": [
      "Number of Bigrams:  389\n",
      "Number of Trigrams:  50\n"
     ]
    }
   ],
   "source": [
    "bigrams_filtered = bigrams_pos[bigrams_pos.freq>100].bigram.values.tolist()\n",
    "trigrams_filtered = trigrams_pos[trigrams_pos.freq>55].trigram.values.tolist()\n",
    "print('Number of Bigrams: ', len(bigrams_filtered))\n",
    "print('Number of Trigrams: ', len(trigrams_filtered))"
   ]
  },
  {
   "cell_type": "markdown",
   "metadata": {},
   "source": [
    "Finally, we use `regram()` to replace all instances of the collocations in the text with underscored versions, such that, for example, \"it has a wonderful flavor\" becomes \"it has a wonderful_flavor\". Since we previously removed all special characters in the text, introducting underscores will allow us to retokenize the text on spaces and retain these collocations as single tokens."
   ]
  },
  {
   "cell_type": "code",
   "execution_count": 25,
   "metadata": {
    "ExecuteTime": {
     "end_time": "2018-12-13T16:04:22.212770Z",
     "start_time": "2018-12-13T16:04:04.821042Z"
    }
   },
   "outputs": [],
   "source": [
    "df = regram(df, 'reviews_lemmas', 'reviews_regram', bigrams_filtered, trigrams_filtered)"
   ]
  },
  {
   "cell_type": "markdown",
   "metadata": {},
   "source": [
    "We now write out the processed text to be used for topic modelling, with a timestamp for improved version control."
   ]
  },
  {
   "cell_type": "code",
   "execution_count": 26,
   "metadata": {
    "ExecuteTime": {
     "end_time": "2018-12-13T16:04:44.220512Z",
     "start_time": "2018-12-13T16:04:42.835532Z"
    }
   },
   "outputs": [],
   "source": [
    "now = time.strftime('%Y%m%d_%H%M')\n",
    "df.to_csv('../df_output_%s.csv' %now, index = False)"
   ]
  }
 ],
 "metadata": {
  "kernelspec": {
   "display_name": "Python 3",
   "language": "python",
   "name": "python3"
  },
  "language_info": {
   "codemirror_mode": {
    "name": "ipython",
    "version": 3
   },
   "file_extension": ".py",
   "mimetype": "text/x-python",
   "name": "python",
   "nbconvert_exporter": "python",
   "pygments_lexer": "ipython3",
   "version": "3.6.5"
  },
  "toc": {
   "base_numbering": 1,
   "nav_menu": {},
   "number_sections": true,
   "sideBar": true,
   "skip_h1_title": false,
   "title_cell": "Table of Contents",
   "title_sidebar": "Contents",
   "toc_cell": false,
   "toc_position": {
    "height": "608px",
    "left": "545px",
    "top": "110px",
    "width": "384px"
   },
   "toc_section_display": true,
   "toc_window_display": false
  }
 },
 "nbformat": 4,
 "nbformat_minor": 2
}
